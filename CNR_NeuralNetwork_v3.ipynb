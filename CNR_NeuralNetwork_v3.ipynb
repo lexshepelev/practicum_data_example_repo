{
  "cells": [
    {
      "cell_type": "markdown",
      "metadata": {
        "id": "view-in-github",
        "colab_type": "text"
      },
      "source": [
        "<a href=\"https://colab.research.google.com/github/lexshepelev/practicum_data_example_repo/blob/master/CNR_NeuralNetwork_v3.ipynb\" target=\"_parent\"><img src=\"https://colab.research.google.com/assets/colab-badge.svg\" alt=\"Open In Colab\"/></a>"
      ]
    },
    {
      "cell_type": "code",
      "execution_count": null,
      "id": "8351a31c",
      "metadata": {
        "id": "8351a31c"
      },
      "outputs": [],
      "source": [
        "import numpy as np\n",
        "from tensorflow import keras\n",
        "from sklearn.model_selection import train_test_split"
      ]
    },
    {
      "cell_type": "code",
      "source": [
        "from tensorflow.keras.layers import Conv2D, Flatten, Dense, AvgPool2D, MaxPooling2D"
      ],
      "metadata": {
        "id": "muInluCWexY0"
      },
      "id": "muInluCWexY0",
      "execution_count": null,
      "outputs": []
    },
    {
      "cell_type": "code",
      "source": [
        "#!pip install pyyaml h5py"
      ],
      "metadata": {
        "colab": {
          "base_uri": "https://localhost:8080/"
        },
        "id": "nGLAboSuam-6",
        "outputId": "73a92727-14c7-4aba-b84c-7f6fa1ad6e51"
      },
      "id": "nGLAboSuam-6",
      "execution_count": null,
      "outputs": [
        {
          "output_type": "stream",
          "name": "stdout",
          "text": [
            "Looking in indexes: https://pypi.org/simple, https://us-python.pkg.dev/colab-wheels/public/simple/\n",
            "Requirement already satisfied: pyyaml in /usr/local/lib/python3.7/dist-packages (6.0)\n",
            "Requirement already satisfied: h5py in /usr/local/lib/python3.7/dist-packages (3.1.0)\n",
            "Requirement already satisfied: numpy>=1.14.5 in /usr/local/lib/python3.7/dist-packages (from h5py) (1.21.6)\n",
            "Requirement already satisfied: cached-property in /usr/local/lib/python3.7/dist-packages (from h5py) (1.5.2)\n"
          ]
        }
      ]
    },
    {
      "cell_type": "code",
      "source": [
        "from google.colab import drive\n",
        "drive.mount('/content/drive')"
      ],
      "metadata": {
        "colab": {
          "base_uri": "https://localhost:8080/"
        },
        "id": "QBxZoqBZ52D0",
        "outputId": "d1ce8ff2-6bb8-4fb3-cf10-59a9dd1c3483"
      },
      "id": "QBxZoqBZ52D0",
      "execution_count": null,
      "outputs": [
        {
          "output_type": "stream",
          "name": "stdout",
          "text": [
            "Mounted at /content/drive\n"
          ]
        }
      ]
    },
    {
      "cell_type": "markdown",
      "id": "5dc31faa",
      "metadata": {
        "id": "5dc31faa"
      },
      "source": [
        "# Предобработанные данные цифр"
      ]
    },
    {
      "cell_type": "markdown",
      "id": "2b80ed16",
      "metadata": {
        "id": "2b80ed16"
      },
      "source": [
        "**Загражаем объекты, пригодные для обучения**"
      ]
    },
    {
      "cell_type": "code",
      "source": [
        "features_digit_arr = np.load('/content/drive/MyDrive/DataScience/car-number-recognition/code/features_digit_arr.npy')"
      ],
      "metadata": {
        "id": "OajTfR171b0n"
      },
      "id": "OajTfR171b0n",
      "execution_count": null,
      "outputs": []
    },
    {
      "cell_type": "code",
      "execution_count": null,
      "id": "72428e75",
      "metadata": {
        "id": "72428e75"
      },
      "outputs": [],
      "source": [
        "target_digit_arr = np.load('/content/drive/MyDrive/DataScience/car-number-recognition/code/target_digit_arr.npy')"
      ]
    },
    {
      "cell_type": "code",
      "source": [
        "features_digit_arr.shape"
      ],
      "metadata": {
        "colab": {
          "base_uri": "https://localhost:8080/"
        },
        "id": "ii3Y55BNS9yd",
        "outputId": "8ce9f7ca-f9c1-49c1-ef8b-e90a7385d0fc"
      },
      "id": "ii3Y55BNS9yd",
      "execution_count": null,
      "outputs": [
        {
          "output_type": "execute_result",
          "data": {
            "text/plain": [
              "(6988, 50, 40)"
            ]
          },
          "metadata": {},
          "execution_count": 6
        }
      ]
    },
    {
      "cell_type": "code",
      "source": [
        "target_digit_arr.shape"
      ],
      "metadata": {
        "colab": {
          "base_uri": "https://localhost:8080/"
        },
        "id": "olw03TzZ7I1c",
        "outputId": "657a2e19-9863-443d-cb58-e4527ab122b3"
      },
      "id": "olw03TzZ7I1c",
      "execution_count": null,
      "outputs": [
        {
          "output_type": "execute_result",
          "data": {
            "text/plain": [
              "(6988,)"
            ]
          },
          "metadata": {},
          "execution_count": 7
        }
      ]
    },
    {
      "cell_type": "markdown",
      "source": [
        "# Функции"
      ],
      "metadata": {
        "id": "_FELYrDLBGQt"
      },
      "id": "_FELYrDLBGQt"
    },
    {
      "cell_type": "code",
      "source": [],
      "metadata": {
        "id": "pgqyQh4UBLMC"
      },
      "id": "pgqyQh4UBLMC",
      "execution_count": null,
      "outputs": []
    },
    {
      "cell_type": "markdown",
      "source": [
        "# Модель"
      ],
      "metadata": {
        "id": "7AQbFZt63nqh"
      },
      "id": "7AQbFZt63nqh"
    },
    {
      "cell_type": "code",
      "source": [
        "from tensorflow.keras.optimizers import Adam\n",
        "optimizer = Adam(lr=0.01)"
      ],
      "metadata": {
        "colab": {
          "base_uri": "https://localhost:8080/"
        },
        "id": "SBki37i4c7Ej",
        "outputId": "8adb114b-ce2e-42b8-c8a4-62ac5e935a8d"
      },
      "id": "SBki37i4c7Ej",
      "execution_count": null,
      "outputs": [
        {
          "output_type": "stream",
          "name": "stderr",
          "text": [
            "/usr/local/lib/python3.7/dist-packages/keras/optimizer_v2/adam.py:105: UserWarning: The `lr` argument is deprecated, use `learning_rate` instead.\n",
            "  super(Adam, self).__init__(name, **kwargs)\n"
          ]
        }
      ]
    },
    {
      "cell_type": "code",
      "source": [
        "features_digit_arr = features_digit_arr.reshape(features_digit_arr.shape[0], 50*40)\n",
        "features_digit_arr.shape"
      ],
      "metadata": {
        "colab": {
          "base_uri": "https://localhost:8080/"
        },
        "id": "Zq3zo6lM8LA7",
        "outputId": "4045d993-6ee3-4e74-b2ef-893125c06874"
      },
      "id": "Zq3zo6lM8LA7",
      "execution_count": null,
      "outputs": [
        {
          "output_type": "execute_result",
          "data": {
            "text/plain": [
              "(6988, 2000)"
            ]
          },
          "metadata": {},
          "execution_count": 9
        }
      ]
    },
    {
      "cell_type": "code",
      "source": [
        "features_digit_arr[1]"
      ],
      "metadata": {
        "colab": {
          "base_uri": "https://localhost:8080/"
        },
        "id": "MneCPRJ_N2BM",
        "outputId": "9ff12d26-7316-4048-bddf-2acfcf9fefd3"
      },
      "id": "MneCPRJ_N2BM",
      "execution_count": null,
      "outputs": [
        {
          "output_type": "execute_result",
          "data": {
            "text/plain": [
              "array([255, 255, 255, ..., 255, 255, 255], dtype=uint8)"
            ]
          },
          "metadata": {},
          "execution_count": 10
        }
      ]
    },
    {
      "cell_type": "code",
      "execution_count": null,
      "id": "9c34fae7",
      "metadata": {
        "id": "9c34fae7"
      },
      "outputs": [],
      "source": [
        "features_digit_train, features_digit_test, target_digit_train, target_digit_test = \\\n",
        "    train_test_split(features_digit_arr, target_digit_arr, test_size=0.2, stratify=target_digit_arr, random_state=123)"
      ]
    },
    {
      "cell_type": "code",
      "source": [
        "def create_model():\n",
        "  model_digit = keras.models.Sequential()\n",
        "\n",
        "  \"\"\" LeNet + Adam (допилить)\n",
        "  model.add(Conv2D(filters=6, kernel_size=(3, 3), padding='same', activation=\"ReLU\", input_shape=(50, 40, 1)))\n",
        "  model.add(AvgPool2D(pool_size=(2, 2), strides=None, padding='valid'))\n",
        "  model.add(Conv2D(filters=16, kernel_size=(5, 5), activation=\"tanh\"))\n",
        "  model.add(AvgPool2D(pool_size=(2, 2), strides=None, padding='valid'))\n",
        "  model.add(Flatten())\n",
        "  model.add(Dense(units=120, activation='tanh'))\n",
        "  model.add(Dense(units=84, activation='tanh'))\n",
        "  #model.add(Dense(units=10, activation='softmax'))\n",
        "  model.add(keras.layers.Dense(units=10, input_dim=features_digit_train.shape[1], \n",
        "                              activation='softmax'))\n",
        "  model.compile(loss='sparse_categorical_crossentropy', optimizer=optimizer, metrics=['acc'])\n",
        "  \"\"\"\n",
        "  model_digit.add(keras.layers.Dense(units=10, input_dim=features_digit_train.shape[1], \n",
        "                              activation='softmax'))\n",
        "  model_digit.compile(loss='sparse_categorical_crossentropy', optimizer='sgd', metrics=['acc'])\n",
        "\n",
        "  model_digit.fit(features_digit_train, target_digit_train, epochs=10, verbose=2,\n",
        "            validation_data=(features_digit_test, target_digit_test))\n",
        "  return(model_digit)"
      ],
      "metadata": {
        "id": "AYtYmQBc7300"
      },
      "id": "AYtYmQBc7300",
      "execution_count": null,
      "outputs": []
    },
    {
      "cell_type": "code",
      "source": [
        "model_digit = create_model()"
      ],
      "metadata": {
        "colab": {
          "base_uri": "https://localhost:8080/"
        },
        "id": "0i8PGtEAbiV6",
        "outputId": "c8c2a56a-7084-47fb-f4a0-6fea0c7e27ca"
      },
      "id": "0i8PGtEAbiV6",
      "execution_count": null,
      "outputs": [
        {
          "output_type": "stream",
          "name": "stdout",
          "text": [
            "Epoch 1/10\n",
            "175/175 - 1s - loss: 2501.1865 - acc: 0.9657 - val_loss: 164.6816 - val_acc: 0.9950 - 661ms/epoch - 4ms/step\n",
            "Epoch 2/10\n",
            "175/175 - 0s - loss: 14.8595 - acc: 0.9986 - val_loss: 149.3959 - val_acc: 0.9943 - 370ms/epoch - 2ms/step\n",
            "Epoch 3/10\n",
            "175/175 - 0s - loss: 11.9921 - acc: 0.9984 - val_loss: 133.0110 - val_acc: 0.9943 - 442ms/epoch - 3ms/step\n",
            "Epoch 4/10\n",
            "175/175 - 0s - loss: 3.0308 - acc: 0.9991 - val_loss: 106.1838 - val_acc: 0.9950 - 366ms/epoch - 2ms/step\n",
            "Epoch 5/10\n",
            "175/175 - 0s - loss: 0.0000e+00 - acc: 1.0000 - val_loss: 106.1838 - val_acc: 0.9950 - 350ms/epoch - 2ms/step\n",
            "Epoch 6/10\n",
            "175/175 - 0s - loss: 0.0000e+00 - acc: 1.0000 - val_loss: 106.1838 - val_acc: 0.9950 - 441ms/epoch - 3ms/step\n",
            "Epoch 7/10\n",
            "175/175 - 0s - loss: 0.0000e+00 - acc: 1.0000 - val_loss: 106.1838 - val_acc: 0.9950 - 444ms/epoch - 3ms/step\n",
            "Epoch 8/10\n",
            "175/175 - 0s - loss: 0.0000e+00 - acc: 1.0000 - val_loss: 106.1838 - val_acc: 0.9950 - 367ms/epoch - 2ms/step\n",
            "Epoch 9/10\n",
            "175/175 - 0s - loss: 0.0000e+00 - acc: 1.0000 - val_loss: 106.1838 - val_acc: 0.9950 - 368ms/epoch - 2ms/step\n",
            "Epoch 10/10\n",
            "175/175 - 0s - loss: 0.0000e+00 - acc: 1.0000 - val_loss: 106.1838 - val_acc: 0.9950 - 439ms/epoch - 3ms/step\n"
          ]
        }
      ]
    },
    {
      "cell_type": "code",
      "source": [
        "model_digit.summary()"
      ],
      "metadata": {
        "colab": {
          "base_uri": "https://localhost:8080/"
        },
        "id": "yh0H0S3Obu-W",
        "outputId": "03712dc8-8d82-4174-98a3-3757f5a07a7f"
      },
      "id": "yh0H0S3Obu-W",
      "execution_count": null,
      "outputs": [
        {
          "output_type": "stream",
          "name": "stdout",
          "text": [
            "Model: \"sequential_1\"\n",
            "_________________________________________________________________\n",
            " Layer (type)                Output Shape              Param #   \n",
            "=================================================================\n",
            " dense_1 (Dense)             (None, 10)                20010     \n",
            "                                                                 \n",
            "=================================================================\n",
            "Total params: 20,010\n",
            "Trainable params: 20,010\n",
            "Non-trainable params: 0\n",
            "_________________________________________________________________\n"
          ]
        }
      ]
    },
    {
      "cell_type": "code",
      "source": [
        "digit_arr = np.load('/content/drive/MyDrive/DataScience/car-number-recognition/code/features_digit_arr.npy')"
      ],
      "metadata": {
        "id": "LqNJaQoNRTx1"
      },
      "id": "LqNJaQoNRTx1",
      "execution_count": null,
      "outputs": []
    },
    {
      "cell_type": "code",
      "source": [
        "def predict_from_arr(arr, model):\n",
        "  arr = arr.reshape(1, 50*40)\n",
        "  prediction = model_digit.predict(arr)[0]\n",
        "  #print('[0. 1. 2. 3. 4. 5. 6. 7. 8. 9.]')\n",
        "  #print(prediction)\n",
        "  result = np.where(prediction == prediction.max())[0][0]\n",
        "  return result"
      ],
      "metadata": {
        "id": "BLWiuU0WUDKD"
      },
      "id": "BLWiuU0WUDKD",
      "execution_count": null,
      "outputs": []
    },
    {
      "cell_type": "code",
      "source": [
        "predict_from_arr(digit_arr[5000], model_digit)"
      ],
      "metadata": {
        "colab": {
          "base_uri": "https://localhost:8080/"
        },
        "id": "ehLTQyZCqKzx",
        "outputId": "f13965db-4554-4cd9-c06d-7186b2f19171"
      },
      "id": "ehLTQyZCqKzx",
      "execution_count": null,
      "outputs": [
        {
          "output_type": "execute_result",
          "data": {
            "text/plain": [
              "6"
            ]
          },
          "metadata": {},
          "execution_count": 15
        }
      ]
    },
    {
      "cell_type": "code",
      "source": [
        "target_digit_arr[5000]"
      ],
      "metadata": {
        "colab": {
          "base_uri": "https://localhost:8080/"
        },
        "id": "snUnlUZwqOzi",
        "outputId": "f46bed8c-5595-424c-9e37-de052bed8abb"
      },
      "id": "snUnlUZwqOzi",
      "execution_count": null,
      "outputs": [
        {
          "output_type": "execute_result",
          "data": {
            "text/plain": [
              "6"
            ]
          },
          "metadata": {},
          "execution_count": 16
        }
      ]
    },
    {
      "cell_type": "code",
      "source": [
        "model_digit.save(\"model_digit_Neural_LR_v1\")"
      ],
      "metadata": {
        "id": "Vn8VFOwtc_Uk"
      },
      "id": "Vn8VFOwtc_Uk",
      "execution_count": null,
      "outputs": []
    },
    {
      "cell_type": "code",
      "source": [
        "#from joblib import load\n",
        "#model_digit = load('model_digit_Neural_LR.sav')"
      ],
      "metadata": {
        "id": "hdSPaub7sy2I"
      },
      "id": "hdSPaub7sy2I",
      "execution_count": null,
      "outputs": []
    },
    {
      "cell_type": "code",
      "source": [
        "reconstructed_model = keras.models.load_model(\"/content/drive/MyDrive/DataScience/car-number-recognition/models/model_digit_Neural_LR_v1\")"
      ],
      "metadata": {
        "id": "wQZVVJhAd9hs"
      },
      "id": "wQZVVJhAd9hs",
      "execution_count": null,
      "outputs": []
    },
    {
      "cell_type": "code",
      "source": [
        "#dump(model_digit, '/content/drive/MyDrive/DataScience/car-number-recognition/models/model_digit_Neural_LR.sav')"
      ],
      "metadata": {
        "id": "tDxN8ZZpqYL_"
      },
      "id": "tDxN8ZZpqYL_",
      "execution_count": null,
      "outputs": []
    },
    {
      "cell_type": "markdown",
      "source": [
        "# Проверка"
      ],
      "metadata": {
        "id": "5335MFdcwzSj"
      },
      "id": "5335MFdcwzSj"
    },
    {
      "cell_type": "code",
      "source": [
        "import pandas as pd\n",
        "from PIL import Image, ImageOps, ImageFilter\n",
        "import matplotlib.pyplot as plt"
      ],
      "metadata": {
        "id": "XWxCB_crw13M"
      },
      "id": "XWxCB_crw13M",
      "execution_count": null,
      "outputs": []
    },
    {
      "cell_type": "code",
      "source": [
        "def resizeimg(image, width, height):\n",
        "    \"\"\"\n",
        "    Функция изменяет размер изображения\n",
        "    \"\"\"\n",
        "    resized_img = image.resize((width, height), Image.ANTIALIAS)\n",
        "    array = np.array(resized_img)\n",
        "    #plt.imshow(array);\n",
        "    return array"
      ],
      "metadata": {
        "id": "4EqaE-niw7Fe"
      },
      "id": "4EqaE-niw7Fe",
      "execution_count": null,
      "outputs": []
    },
    {
      "cell_type": "code",
      "source": [
        "def longest_segment(array, err=1):\n",
        "    \"\"\"\n",
        "    Функция принимает одномерный массив и погрешность,\n",
        "    возвращает самую длинную непрерывную последовательность. \n",
        "    \n",
        "    Например, на входе: 0,1,3,4,5,7\n",
        "    На выходе: 3,4,5.\n",
        "    \"\"\"\n",
        "    segment = []\n",
        "    longest_segment = []\n",
        "    n = len(array)\n",
        "    for i in range(0, n):\n",
        "        if len(segment) >= len(longest_segment):\n",
        "            longest_segment = segment\n",
        "        cur_elem = array[i]\n",
        "        if i == n-1:\n",
        "            next_elem = None\n",
        "        else:\n",
        "            next_elem = array[i+1]\n",
        "            distance = abs(next_elem - cur_elem)\n",
        "        #print('i:', i)\n",
        "        #print('cur_elem:', cur_elem)\n",
        "        #print('next_elem:', next_elem)\n",
        "        #print('distance:', distance)\n",
        "        segment.append(array[i])\n",
        "        if distance > err:\n",
        "            segment=[]\n",
        "\n",
        "        #print('segment:', segment)\n",
        "        #print('longest_segment:', longest_segment)\n",
        "    return np.array(longest_segment)      "
      ],
      "metadata": {
        "id": "oTZJ3npDw9Le"
      },
      "id": "oTZJ3npDw9Le",
      "execution_count": null,
      "outputs": []
    },
    {
      "cell_type": "code",
      "source": [
        "def crop_2d_array(image):\n",
        "    \"\"\"\n",
        "    Функция обрезает изображение до не пустого. Возвращает 2d массив\n",
        "    \"\"\"\n",
        "    image_data_bw = image.min(axis=0)\n",
        "    non_empty_columns = np.where(image.min(axis=0)<50)[0]\n",
        "    non_empty_rows = np.where(image.min(axis=1)<50)[0]\n",
        "    non_empty_columns = longest_segment(non_empty_columns) #Берем самый длинный отрезок без пропусков\n",
        "    non_empty_rows = longest_segment(non_empty_rows)\n",
        "    cropBox = (min(non_empty_rows), max(non_empty_rows), min(non_empty_columns), max(non_empty_columns))\n",
        "    image_data_new = image[cropBox[0]:cropBox[1]+1, cropBox[2]:cropBox[3]+1]\n",
        "    #plt.imshow(image_data_new)\n",
        "    return image_data_new"
      ],
      "metadata": {
        "id": "AfiMSZQAw93U"
      },
      "id": "AfiMSZQAw93U",
      "execution_count": null,
      "outputs": []
    },
    {
      "cell_type": "code",
      "source": [
        "def add_margin(pil_img, top, right, bottom, left, color):\n",
        "    width, height = pil_img.size\n",
        "    new_width = width + right + left\n",
        "    new_height = height + top + bottom\n",
        "    result = Image.new(pil_img.mode, (new_width, new_height), color)\n",
        "    result.paste(pil_img, (left, top))\n",
        "    return result"
      ],
      "metadata": {
        "id": "4hBaicNGw-ij"
      },
      "id": "4hBaicNGw-ij",
      "execution_count": null,
      "outputs": []
    },
    {
      "cell_type": "code",
      "source": [
        "def myfilter(image, \n",
        "             show=False, \n",
        "             istrash=False, \n",
        "             isarray=False,\n",
        "             width=12,\n",
        "             height=18,):\n",
        "    \"\"\"\n",
        "    Принимает 2d массив сырого изображения, возвращает предобработанное изображение\n",
        "    \"\"\"\n",
        "    if istrash == True:\n",
        "        image = np.delete(image, 0, 0)\n",
        "        image = np.delete(image, 0, 1)\n",
        "    if isarray == True:\n",
        "        img = Image.fromarray(image, 'L')\n",
        "    elif isarray == False:\n",
        "        img = image\n",
        "    img = add_margin(img, 1, 1, 1, 1, 255)\n",
        "    #img = img.filter(ImageFilter.Kernel((3, 3),\n",
        "    #        (0, -1, 0,\n",
        "    #         0, 5, 0,\n",
        "    #         0, 0, 0), 1, 0))\n",
        "    #\n",
        "    #img = img.filter(ImageFilter.Kernel((3, 3),\n",
        "    #        (0, -1, 0,\n",
        "    #         -1, 5, -1,\n",
        "    #         0, -1, 0), 1, 0))\n",
        "    #\n",
        "    img = img.filter(ImageFilter.Kernel((3, 3),\n",
        "            (0, 0, 0,\n",
        "             0, 1, 0,\n",
        "             0, 0, 0), 1, 0))\n",
        "    \n",
        "    #img = img.filter(ImageFilter.Kernel((3, 3),\n",
        "    #        (0, 0, 0,\n",
        "    #         0, 1, 0,\n",
        "    #         0, 0, 0), 1, 0))\n",
        "    \n",
        "    #threshold = 80\n",
        "    #img = img.point(lambda p: p > threshold and 255)\n",
        "    img = np.array(img)\n",
        "    try:\n",
        "        img= crop_2d_array(img)\n",
        "    except:\n",
        "        print('crop_2d_array: 2d массива нет (1я итерация)')\n",
        "    try:\n",
        "        img= crop_2d_array(img)\n",
        "    except:\n",
        "        print('crop_2d_array: 2d массива нет (2я итерация)')    \n",
        "    img = Image.fromarray(img, 'L')\n",
        "    threshold = 65\n",
        "    img = img.point(lambda p: p > threshold and 255)\n",
        "    #img = img.filter(ImageFilter.MinFilter(1))\n",
        "    img = resizeimg(img, width, height)\n",
        "    \n",
        "    if show == True:\n",
        "        plt.imshow(img)\n",
        "        plt.show()\n",
        "    return img"
      ],
      "metadata": {
        "id": "aDpujfEiw-wx"
      },
      "id": "aDpujfEiw-wx",
      "execution_count": null,
      "outputs": []
    },
    {
      "cell_type": "code",
      "source": [
        "import pickle"
      ],
      "metadata": {
        "id": "VeTmiQTBsrp3"
      },
      "id": "VeTmiQTBsrp3",
      "execution_count": null,
      "outputs": []
    },
    {
      "cell_type": "code",
      "source": [
        "with open('/content/drive/MyDrive/DataScience/car-number-recognition/symbols/number.pickle', 'rb') as f:\n",
        "    symbol_list = pickle.load(f)"
      ],
      "metadata": {
        "id": "fLLWSsK-wbuH"
      },
      "id": "fLLWSsK-wbuH",
      "execution_count": null,
      "outputs": []
    },
    {
      "cell_type": "code",
      "source": [
        "symbol_list[0].shape"
      ],
      "metadata": {
        "colab": {
          "base_uri": "https://localhost:8080/"
        },
        "id": "HgVtTz2x8PUJ",
        "outputId": "2fe6afba-569a-4acb-9a27-11291b777a3a"
      },
      "id": "HgVtTz2x8PUJ",
      "execution_count": null,
      "outputs": [
        {
          "output_type": "execute_result",
          "data": {
            "text/plain": [
              "(120, 75)"
            ]
          },
          "metadata": {},
          "execution_count": 27
        }
      ]
    },
    {
      "cell_type": "code",
      "source": [
        "img = Image.fromarray(symbol_list[0], 'L')\n",
        "resizeimg(img, 40, 50)"
      ],
      "metadata": {
        "colab": {
          "base_uri": "https://localhost:8080/"
        },
        "id": "fSYN6DbO_3Di",
        "outputId": "c3818cb7-1e73-4503-f7d1-689716bd50fc"
      },
      "id": "fSYN6DbO_3Di",
      "execution_count": null,
      "outputs": [
        {
          "output_type": "execute_result",
          "data": {
            "text/plain": [
              "array([[  0,   0,   0, ...,   5,   5,   5],\n",
              "       [  4,   4,   4, ...,   0,   0,   0],\n",
              "       [  0,   0,   0, ..., 128, 128, 128],\n",
              "       ...,\n",
              "       [255, 255, 255, ..., 200, 255, 255],\n",
              "       [255, 255, 255, ..., 255, 251, 252],\n",
              "       [255, 255, 255, ..., 252, 255, 255]], dtype=uint8)"
            ]
          },
          "metadata": {},
          "execution_count": 28
        }
      ]
    },
    {
      "cell_type": "code",
      "source": [
        "preprocessed_list = []\n",
        "for i in range(0, 9):\n",
        "    preprocessed_list.append(myfilter(symbol_list[i], True, True, True, 40, 50))"
      ],
      "metadata": {
        "colab": {
          "base_uri": "https://localhost:8080/",
          "height": 1000
        },
        "id": "-o7IN49eVfG7",
        "outputId": "09a11da7-36e8-4655-caf0-7bc26a4cb6bf"
      },
      "id": "-o7IN49eVfG7",
      "execution_count": null,
      "outputs": [
        {
          "output_type": "display_data",
          "data": {
            "text/plain": [
              "<Figure size 432x288 with 1 Axes>"
            ],
            "image/png": "[encoded data removed]"
          },
          "metadata": {
            "needs_background": "light"
          }
        },
        {
          "output_type": "display_data",
          "data": {
            "text/plain": [
              "<Figure size 432x288 with 1 Axes>"
            ],
            "image/png": "[encoded data removed]"
          },
          "metadata": {
            "needs_background": "light"
          }
        },
        {
          "output_type": "display_data",
          "data": {
            "text/plain": [
              "<Figure size 432x288 with 1 Axes>"
            ],
            "image/png": "[encoded data removed]"
          },
          "metadata": {
            "needs_background": "light"
          }
        },
        {
          "output_type": "display_data",
          "data": {
            "text/plain": [
              "<Figure size 432x288 with 1 Axes>"
            ],
            "image/png": "[encoded data removed]"
          },
          "metadata": {
            "needs_background": "light"
          }
        },
        {
          "output_type": "display_data",
          "data": {
            "text/plain": [
              "<Figure size 432x288 with 1 Axes>"
            ],
            "image/png": "[encoded data removed]"
          },
          "metadata": {
            "needs_background": "light"
          }
        },
        {
          "output_type": "display_data",
          "data": {
            "text/plain": [
              "<Figure size 432x288 with 1 Axes>"
            ],
            "image/png": "[encoded data removed]"
          },
          "metadata": {
            "needs_background": "light"
          }
        },
        {
          "output_type": "display_data",
          "data": {
            "text/plain": [
              "<Figure size 432x288 with 1 Axes>"
            ],
            "image/png": "[encoded data removed]"
          },
          "metadata": {
            "needs_background": "light"
          }
        },
        {
          "output_type": "display_data",
          "data": {
            "text/plain": [
              "<Figure size 432x288 with 1 Axes>"
            ],
            "image/png": "[encoded data removed]"
          },
          "metadata": {
            "needs_background": "light"
          }
        },
        {
          "output_type": "display_data",
          "data": {
            "text/plain": [
              "<Figure size 432x288 with 1 Axes>"
            ],
            "image/png": "[encoded data removed]"
          },
          "metadata": {
            "needs_background": "light"
          }
        }
      ]
    },
    {
      "cell_type": "code",
      "source": [
        "preprocessed_list[0]"
      ],
      "metadata": {
        "id": "3NCErZ1NxeDh",
        "colab": {
          "base_uri": "https://localhost:8080/"
        },
        "outputId": "81632fe8-3fc2-404d-85f1-54419f202321"
      },
      "id": "3NCErZ1NxeDh",
      "execution_count": null,
      "outputs": [
        {
          "output_type": "execute_result",
          "data": {
            "text/plain": [
              "array([[255, 255, 255, ..., 255, 255, 255],\n",
              "       [240,  89,  91, ..., 255, 255, 255],\n",
              "       [147,   0,   0, ..., 255, 255, 255],\n",
              "       ...,\n",
              "       [255, 255, 255, ..., 255, 255, 255],\n",
              "       [255, 255, 254, ..., 255, 255, 255],\n",
              "       [255, 255, 254, ..., 255, 255, 255]], dtype=uint8)"
            ]
          },
          "metadata": {},
          "execution_count": 38
        }
      ]
    },
    {
      "cell_type": "code",
      "source": [
        "def predict_carnumb(model_digit, rows_of_pickle: list):\n",
        "    carnumber = []\n",
        "    carnumber.append('X')\n",
        "    carnumber.append(str(predict_from_arr(rows_of_pickle[1], reconstructed_model)))\n",
        "    carnumber.append(str(predict_from_arr(rows_of_pickle[2], reconstructed_model)))\n",
        "    carnumber.append(str(predict_from_arr(rows_of_pickle[3], reconstructed_model)))\n",
        "    carnumber.append('X')\n",
        "    carnumber.append('X')\n",
        "    carnumber.append(str(predict_from_arr(rows_of_pickle[6], reconstructed_model)))\n",
        "    carnumber.append(str(predict_from_arr(rows_of_pickle[7], reconstructed_model)))\n",
        "    carnumber.append(str(predict_from_arr(rows_of_pickle[8], reconstructed_model)))\n",
        "    carnumber=''.join(carnumber)\n",
        "    return carnumber"
      ],
      "metadata": {
        "id": "c-eVfhUtxxkl"
      },
      "id": "c-eVfhUtxxkl",
      "execution_count": null,
      "outputs": []
    },
    {
      "cell_type": "code",
      "source": [
        "%%time\n",
        "predict_carnumb(model_digit, preprocessed_list)"
      ],
      "metadata": {
        "id": "DgEugSqGzQBb",
        "colab": {
          "base_uri": "https://localhost:8080/",
          "height": 71
        },
        "outputId": "9f54c5d4-fb4a-42ce-d75b-d94b928cb19a"
      },
      "id": "DgEugSqGzQBb",
      "execution_count": null,
      "outputs": [
        {
          "output_type": "stream",
          "name": "stdout",
          "text": [
            "CPU times: user 233 ms, sys: 3.19 ms, total: 236 ms\n",
            "Wall time: 248 ms\n"
          ]
        },
        {
          "output_type": "execute_result",
          "data": {
            "text/plain": [
              "'X378XX198'"
            ],
            "application/vnd.google.colaboratory.intrinsic+json": {
              "type": "string"
            }
          },
          "metadata": {},
          "execution_count": 49
        }
      ]
    },
    {
      "cell_type": "code",
      "source": [
        "%%time\n",
        "predict_carnumb(model_digit, symbol_list)"
      ],
      "metadata": {
        "colab": {
          "base_uri": "https://localhost:8080/",
          "height": 508
        },
        "id": "-quz7SljzYDt",
        "outputId": "ea8ca827-46c4-4bba-82ac-85a21f246863"
      },
      "id": "-quz7SljzYDt",
      "execution_count": null,
      "outputs": [
        {
          "output_type": "error",
          "ename": "ValueError",
          "evalue": "ignored",
          "traceback": [
            "\u001b[0;31m---------------------------------------------------------------------------\u001b[0m",
            "\u001b[0;31mValueError\u001b[0m                                Traceback (most recent call last)",
            "\u001b[0;32m<timed eval>\u001b[0m in \u001b[0;36m<module>\u001b[0;34m\u001b[0m\n",
            "\u001b[0;32m<ipython-input-30-e26cd55a78d8>\u001b[0m in \u001b[0;36mpredict_carnumb\u001b[0;34m(model_digit, rows_of_pickle)\u001b[0m\n\u001b[1;32m      2\u001b[0m     \u001b[0mcarnumber\u001b[0m \u001b[0;34m=\u001b[0m \u001b[0;34m[\u001b[0m\u001b[0;34m]\u001b[0m\u001b[0;34m\u001b[0m\u001b[0;34m\u001b[0m\u001b[0m\n\u001b[1;32m      3\u001b[0m     \u001b[0mcarnumber\u001b[0m\u001b[0;34m.\u001b[0m\u001b[0mappend\u001b[0m\u001b[0;34m(\u001b[0m\u001b[0;34m'X'\u001b[0m\u001b[0;34m)\u001b[0m\u001b[0;34m\u001b[0m\u001b[0;34m\u001b[0m\u001b[0m\n\u001b[0;32m----> 4\u001b[0;31m     \u001b[0mcarnumber\u001b[0m\u001b[0;34m.\u001b[0m\u001b[0mappend\u001b[0m\u001b[0;34m(\u001b[0m\u001b[0mstr\u001b[0m\u001b[0;34m(\u001b[0m\u001b[0mpredict_from_arr\u001b[0m\u001b[0;34m(\u001b[0m\u001b[0mrows_of_pickle\u001b[0m\u001b[0;34m[\u001b[0m\u001b[0;36m1\u001b[0m\u001b[0;34m]\u001b[0m\u001b[0;34m,\u001b[0m \u001b[0mmodel_digit\u001b[0m\u001b[0;34m)\u001b[0m\u001b[0;34m)\u001b[0m\u001b[0;34m)\u001b[0m\u001b[0;34m\u001b[0m\u001b[0;34m\u001b[0m\u001b[0m\n\u001b[0m\u001b[1;32m      5\u001b[0m     \u001b[0mcarnumber\u001b[0m\u001b[0;34m.\u001b[0m\u001b[0mappend\u001b[0m\u001b[0;34m(\u001b[0m\u001b[0mstr\u001b[0m\u001b[0;34m(\u001b[0m\u001b[0mpredict_from_arr\u001b[0m\u001b[0;34m(\u001b[0m\u001b[0mrows_of_pickle\u001b[0m\u001b[0;34m[\u001b[0m\u001b[0;36m2\u001b[0m\u001b[0;34m]\u001b[0m\u001b[0;34m,\u001b[0m \u001b[0mmodel_digit\u001b[0m\u001b[0;34m)\u001b[0m\u001b[0;34m)\u001b[0m\u001b[0;34m)\u001b[0m\u001b[0;34m\u001b[0m\u001b[0;34m\u001b[0m\u001b[0m\n\u001b[1;32m      6\u001b[0m     \u001b[0mcarnumber\u001b[0m\u001b[0;34m.\u001b[0m\u001b[0mappend\u001b[0m\u001b[0;34m(\u001b[0m\u001b[0mstr\u001b[0m\u001b[0;34m(\u001b[0m\u001b[0mpredict_from_arr\u001b[0m\u001b[0;34m(\u001b[0m\u001b[0mrows_of_pickle\u001b[0m\u001b[0;34m[\u001b[0m\u001b[0;36m3\u001b[0m\u001b[0;34m]\u001b[0m\u001b[0;34m,\u001b[0m \u001b[0mmodel_digit\u001b[0m\u001b[0;34m)\u001b[0m\u001b[0;34m)\u001b[0m\u001b[0;34m)\u001b[0m\u001b[0;34m\u001b[0m\u001b[0;34m\u001b[0m\u001b[0m\n",
            "\u001b[0;32m<ipython-input-14-3b1d7d873909>\u001b[0m in \u001b[0;36mpredict_from_arr\u001b[0;34m(arr, model)\u001b[0m\n\u001b[1;32m      1\u001b[0m \u001b[0;32mdef\u001b[0m \u001b[0mpredict_from_arr\u001b[0m\u001b[0;34m(\u001b[0m\u001b[0marr\u001b[0m\u001b[0;34m,\u001b[0m \u001b[0mmodel\u001b[0m\u001b[0;34m)\u001b[0m\u001b[0;34m:\u001b[0m\u001b[0;34m\u001b[0m\u001b[0;34m\u001b[0m\u001b[0m\n\u001b[0;32m----> 2\u001b[0;31m   \u001b[0marr\u001b[0m \u001b[0;34m=\u001b[0m \u001b[0marr\u001b[0m\u001b[0;34m.\u001b[0m\u001b[0mreshape\u001b[0m\u001b[0;34m(\u001b[0m\u001b[0;36m1\u001b[0m\u001b[0;34m,\u001b[0m \u001b[0;36m50\u001b[0m\u001b[0;34m*\u001b[0m\u001b[0;36m40\u001b[0m\u001b[0;34m)\u001b[0m\u001b[0;34m\u001b[0m\u001b[0;34m\u001b[0m\u001b[0m\n\u001b[0m\u001b[1;32m      3\u001b[0m   \u001b[0mprediction\u001b[0m \u001b[0;34m=\u001b[0m \u001b[0mmodel_digit\u001b[0m\u001b[0;34m.\u001b[0m\u001b[0mpredict\u001b[0m\u001b[0;34m(\u001b[0m\u001b[0marr\u001b[0m\u001b[0;34m)\u001b[0m\u001b[0;34m[\u001b[0m\u001b[0;36m0\u001b[0m\u001b[0;34m]\u001b[0m\u001b[0;34m\u001b[0m\u001b[0;34m\u001b[0m\u001b[0m\n\u001b[1;32m      4\u001b[0m   \u001b[0;31m#print('[0. 1. 2. 3. 4. 5. 6. 7. 8. 9.]')\u001b[0m\u001b[0;34m\u001b[0m\u001b[0;34m\u001b[0m\u001b[0;34m\u001b[0m\u001b[0m\n\u001b[1;32m      5\u001b[0m   \u001b[0;31m#print(prediction)\u001b[0m\u001b[0;34m\u001b[0m\u001b[0;34m\u001b[0m\u001b[0;34m\u001b[0m\u001b[0m\n",
            "\u001b[0;31mValueError\u001b[0m: cannot reshape array of size 7200 into shape (1,2000)"
          ]
        }
      ]
    },
    {
      "cell_type": "code",
      "source": [],
      "metadata": {
        "id": "Oxmz3Do68ZyY"
      },
      "id": "Oxmz3Do68ZyY",
      "execution_count": null,
      "outputs": []
    }
  ],
  "metadata": {
    "kernelspec": {
      "display_name": "Python 3",
      "language": "python",
      "name": "python3"
    },
    "language_info": {
      "codemirror_mode": {
        "name": "ipython",
        "version": 3
      },
      "file_extension": ".py",
      "mimetype": "text/x-python",
      "name": "python",
      "nbconvert_exporter": "python",
      "pygments_lexer": "ipython3",
      "version": "3.8.8"
    },
    "latex_envs": {
      "LaTeX_envs_menu_present": true,
      "autoclose": false,
      "autocomplete": true,
      "bibliofile": "biblio.bib",
      "cite_by": "apalike",
      "current_citInitial": 1,
      "eqLabelWithNumbers": true,
      "eqNumInitial": 1,
      "hotkeys": {
        "equation": "Ctrl-E",
        "itemize": "Ctrl-I"
      },
      "labels_anchors": false,
      "latex_user_defs": false,
      "report_style_numbering": false,
      "user_envs_cfg": false
    },
    "toc": {
      "base_numbering": 1,
      "nav_menu": {},
      "number_sections": true,
      "sideBar": true,
      "skip_h1_title": false,
      "title_cell": "Table of Contents",
      "title_sidebar": "Contents",
      "toc_cell": false,
      "toc_position": {},
      "toc_section_display": true,
      "toc_window_display": false
    },
    "colab": {
      "provenance": [],
      "collapsed_sections": [],
      "include_colab_link": true
    },
    "accelerator": "GPU",
    "gpuClass": "standard"
  },
  "nbformat": 4,
  "nbformat_minor": 5
}